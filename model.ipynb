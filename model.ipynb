{
 "cells": [
  {
   "cell_type": "markdown",
   "metadata": {},
   "source": [
    "# 1. Introduction  \n",
    "Airbnb has been disrupting short-term house and apartment rentals market since its inception in 2008.  \n",
    "To help people price it right in Lisbon, Portugal I am running an analysis from 2021 data available in http://insideairbnb.com/get-the-data.html  \n",
    "I was inspired by Allan Bruno's great work about Rio de Janeiro, Brazil found here: https://www.kaggle.com/allanbruno/helping-regular-people-price-listings-on-airbnb  \n",
    "Also, all of this wouldn't be possible without the amazing and fantastic job made by https://scikit-learn.org/stable/  \n",
    "First, I begin importing what is necessary for the project:"
   ]
  },
  {
   "cell_type": "code",
   "execution_count": 193,
   "metadata": {
    "execution": {
     "iopub.execute_input": "2022-03-07T20:06:01.592541Z",
     "iopub.status.busy": "2022-03-07T20:06:01.592009Z",
     "iopub.status.idle": "2022-03-07T20:06:04.14429Z",
     "shell.execute_reply": "2022-03-07T20:06:04.14335Z",
     "shell.execute_reply.started": "2022-03-07T20:06:01.592452Z"
    }
   },
   "outputs": [],
   "source": [
    "import pandas as pd\n",
    "import seaborn as sns\n",
    "import matplotlib.pyplot as plt\n",
    "import plotly.express as px\n",
    "import numpy as np\n",
    "import pathlib as pl\n",
    "from sklearn.model_selection import train_test_split\n",
    "from sklearn.metrics import mean_squared_error, mean_absolute_error, r2_score\n",
    "from sklearn.ensemble import RandomForestRegressor, ExtraTreesRegressor\n",
    "from sklearn.tree import DecisionTreeRegressor"
   ]
  },
  {
   "cell_type": "markdown",
   "metadata": {},
   "source": [
    "# 2. Initial Data Analysis  \n",
    "Right now I import our dataframes into one file and display its content and info:"
   ]
  },
  {
   "cell_type": "code",
   "execution_count": 194,
   "metadata": {
    "execution": {
     "iopub.execute_input": "2022-03-07T20:06:04.145928Z",
     "iopub.status.busy": "2022-03-07T20:06:04.145697Z",
     "iopub.status.idle": "2022-03-07T20:06:09.476203Z",
     "shell.execute_reply": "2022-03-07T20:06:09.47549Z",
     "shell.execute_reply.started": "2022-03-07T20:06:04.145903Z"
    }
   },
   "outputs": [],
   "source": [
    "path = pl.Path (f\"archive\")\n",
    "df_list = [] \n",
    "\n",
    "for file in path.iterdir():\n",
    "    df_list.append(pd.read_csv(file))\n",
    "\n",
    "dfraw = pd.concat(df_list, ignore_index=True)"
   ]
  },
  {
   "cell_type": "code",
   "execution_count": 195,
   "metadata": {
    "execution": {
     "iopub.execute_input": "2022-03-07T20:06:09.572981Z",
     "iopub.status.busy": "2022-03-07T20:06:09.572522Z",
     "iopub.status.idle": "2022-03-07T20:06:09.741535Z",
     "shell.execute_reply": "2022-03-07T20:06:09.740746Z",
     "shell.execute_reply.started": "2022-03-07T20:06:09.572937Z"
    }
   },
   "outputs": [
    {
     "name": "stdout",
     "output_type": "stream",
     "text": [
      "<class 'pandas.core.frame.DataFrame'>\n",
      "RangeIndex: 76716 entries, 0 to 76715\n",
      "Data columns (total 74 columns):\n",
      " #   Column                                        Non-Null Count  Dtype  \n",
      "---  ------                                        --------------  -----  \n",
      " 0   id                                            76716 non-null  int64  \n",
      " 1   listing_url                                   76716 non-null  object \n",
      " 2   scrape_id                                     76716 non-null  int64  \n",
      " 3   last_scraped                                  76716 non-null  object \n",
      " 4   name                                          76679 non-null  object \n",
      " 5   description                                   76640 non-null  object \n",
      " 6   neighborhood_overview                         50239 non-null  object \n",
      " 7   picture_url                                   76716 non-null  object \n",
      " 8   host_id                                       76716 non-null  int64  \n",
      " 9   host_url                                      76716 non-null  object \n",
      " 10  host_name                                     75797 non-null  object \n",
      " 11  host_since                                    75797 non-null  object \n",
      " 12  host_location                                 75725 non-null  object \n",
      " 13  host_about                                    44608 non-null  object \n",
      " 14  host_response_time                            57524 non-null  object \n",
      " 15  host_response_rate                            57524 non-null  object \n",
      " 16  host_acceptance_rate                          59325 non-null  object \n",
      " 17  host_is_superhost                             75797 non-null  object \n",
      " 18  host_thumbnail_url                            75797 non-null  object \n",
      " 19  host_picture_url                              75797 non-null  object \n",
      " 20  host_neighbourhood                            41533 non-null  object \n",
      " 21  host_listings_count                           75797 non-null  float64\n",
      " 22  host_total_listings_count                     75797 non-null  float64\n",
      " 23  host_verifications                            75797 non-null  object \n",
      " 24  host_has_profile_pic                          75797 non-null  object \n",
      " 25  host_identity_verified                        75797 non-null  object \n",
      " 26  neighbourhood                                 50239 non-null  object \n",
      " 27  neighbourhood_cleansed                        76716 non-null  object \n",
      " 28  neighbourhood_group_cleansed                  76716 non-null  object \n",
      " 29  latitude                                      76716 non-null  float64\n",
      " 30  longitude                                     76716 non-null  float64\n",
      " 31  property_type                                 76716 non-null  object \n",
      " 32  room_type                                     76716 non-null  object \n",
      " 33  accommodates                                  76716 non-null  int64  \n",
      " 34  bathrooms                                     0 non-null      float64\n",
      " 35  bathrooms_text                                76619 non-null  object \n",
      " 36  bedrooms                                      72744 non-null  float64\n",
      " 37  beds                                          75530 non-null  float64\n",
      " 38  amenities                                     76716 non-null  object \n",
      " 39  price                                         76716 non-null  object \n",
      " 40  minimum_nights                                76716 non-null  int64  \n",
      " 41  maximum_nights                                76716 non-null  int64  \n",
      " 42  minimum_minimum_nights                        76716 non-null  int64  \n",
      " 43  maximum_minimum_nights                        76716 non-null  int64  \n",
      " 44  minimum_maximum_nights                        76716 non-null  int64  \n",
      " 45  maximum_maximum_nights                        76716 non-null  int64  \n",
      " 46  minimum_nights_avg_ntm                        76716 non-null  float64\n",
      " 47  maximum_nights_avg_ntm                        76716 non-null  float64\n",
      " 48  calendar_updated                              0 non-null      float64\n",
      " 49  has_availability                              76716 non-null  object \n",
      " 50  availability_30                               76716 non-null  int64  \n",
      " 51  availability_60                               76716 non-null  int64  \n",
      " 52  availability_90                               76716 non-null  int64  \n",
      " 53  availability_365                              76716 non-null  int64  \n",
      " 54  calendar_last_scraped                         76716 non-null  object \n",
      " 55  number_of_reviews                             76716 non-null  int64  \n",
      " 56  number_of_reviews_ltm                         76716 non-null  int64  \n",
      " 57  number_of_reviews_l30d                        76716 non-null  int64  \n",
      " 58  first_review                                  64206 non-null  object \n",
      " 59  last_review                                   64206 non-null  object \n",
      " 60  review_scores_rating                          64066 non-null  float64\n",
      " 61  review_scores_accuracy                        63703 non-null  float64\n",
      " 62  review_scores_cleanliness                     63711 non-null  float64\n",
      " 63  review_scores_checkin                         63694 non-null  float64\n",
      " 64  review_scores_communication                   63701 non-null  float64\n",
      " 65  review_scores_location                        63696 non-null  float64\n",
      " 66  review_scores_value                           63700 non-null  float64\n",
      " 67  license                                       68804 non-null  object \n",
      " 68  instant_bookable                              76716 non-null  object \n",
      " 69  calculated_host_listings_count                76716 non-null  int64  \n",
      " 70  calculated_host_listings_count_entire_homes   76716 non-null  int64  \n",
      " 71  calculated_host_listings_count_private_rooms  76716 non-null  int64  \n",
      " 72  calculated_host_listings_count_shared_rooms   76716 non-null  int64  \n",
      " 73  reviews_per_month                             64206 non-null  float64\n",
      "dtypes: float64(18), int64(21), object(35)\n",
      "memory usage: 43.3+ MB\n"
     ]
    }
   ],
   "source": [
    "dfraw.info ()"
   ]
  },
  {
   "cell_type": "markdown",
   "metadata": {},
   "source": [
    "I am dropping all columns regarding:  \n",
    "- IDs, URLs, dates, licenses, availabilities, names and descriptions, except for bathrooms text;  \n",
    "- host data, except for if it's a superhost and its total listings count at the end, since verified status comes with the reviews;  \n",
    "- locations, except for latitude and longitude;  \n",
    "- property type, since it's already embedded in room type;  \n",
    "- nights quantities, except for minimum nights."
   ]
  },
  {
   "cell_type": "code",
   "execution_count": 196,
   "metadata": {
    "execution": {
     "iopub.execute_input": "2022-03-07T20:06:09.743734Z",
     "iopub.status.busy": "2022-03-07T20:06:09.743516Z",
     "iopub.status.idle": "2022-03-07T20:06:09.985117Z",
     "shell.execute_reply": "2022-03-07T20:06:09.984421Z",
     "shell.execute_reply.started": "2022-03-07T20:06:09.743695Z"
    }
   },
   "outputs": [
    {
     "name": "stdout",
     "output_type": "stream",
     "text": [
      "<class 'pandas.core.frame.DataFrame'>\n",
      "RangeIndex: 76716 entries, 0 to 76715\n",
      "Data columns (total 45 columns):\n",
      " #   Column                                        Non-Null Count  Dtype  \n",
      "---  ------                                        --------------  -----  \n",
      " 0   latitude                                      76716 non-null  float64\n",
      " 1   longitude                                     76716 non-null  float64\n",
      " 2   property_type                                 76716 non-null  object \n",
      " 3   room_type                                     76716 non-null  object \n",
      " 4   accommodates                                  76716 non-null  int64  \n",
      " 5   bathrooms                                     0 non-null      float64\n",
      " 6   bathrooms_text                                76619 non-null  object \n",
      " 7   bedrooms                                      72744 non-null  float64\n",
      " 8   beds                                          75530 non-null  float64\n",
      " 9   amenities                                     76716 non-null  object \n",
      " 10  price                                         76716 non-null  object \n",
      " 11  minimum_nights                                76716 non-null  int64  \n",
      " 12  maximum_nights                                76716 non-null  int64  \n",
      " 13  minimum_minimum_nights                        76716 non-null  int64  \n",
      " 14  maximum_minimum_nights                        76716 non-null  int64  \n",
      " 15  minimum_maximum_nights                        76716 non-null  int64  \n",
      " 16  maximum_maximum_nights                        76716 non-null  int64  \n",
      " 17  minimum_nights_avg_ntm                        76716 non-null  float64\n",
      " 18  maximum_nights_avg_ntm                        76716 non-null  float64\n",
      " 19  calendar_updated                              0 non-null      float64\n",
      " 20  has_availability                              76716 non-null  object \n",
      " 21  availability_30                               76716 non-null  int64  \n",
      " 22  availability_60                               76716 non-null  int64  \n",
      " 23  availability_90                               76716 non-null  int64  \n",
      " 24  availability_365                              76716 non-null  int64  \n",
      " 25  calendar_last_scraped                         76716 non-null  object \n",
      " 26  number_of_reviews                             76716 non-null  int64  \n",
      " 27  number_of_reviews_ltm                         76716 non-null  int64  \n",
      " 28  number_of_reviews_l30d                        76716 non-null  int64  \n",
      " 29  first_review                                  64206 non-null  object \n",
      " 30  last_review                                   64206 non-null  object \n",
      " 31  review_scores_rating                          64066 non-null  float64\n",
      " 32  review_scores_accuracy                        63703 non-null  float64\n",
      " 33  review_scores_cleanliness                     63711 non-null  float64\n",
      " 34  review_scores_checkin                         63694 non-null  float64\n",
      " 35  review_scores_communication                   63701 non-null  float64\n",
      " 36  review_scores_location                        63696 non-null  float64\n",
      " 37  review_scores_value                           63700 non-null  float64\n",
      " 38  license                                       68804 non-null  object \n",
      " 39  instant_bookable                              76716 non-null  object \n",
      " 40  calculated_host_listings_count                76716 non-null  int64  \n",
      " 41  calculated_host_listings_count_entire_homes   76716 non-null  int64  \n",
      " 42  calculated_host_listings_count_private_rooms  76716 non-null  int64  \n",
      " 43  calculated_host_listings_count_shared_rooms   76716 non-null  int64  \n",
      " 44  reviews_per_month                             64206 non-null  float64\n",
      "dtypes: float64(16), int64(18), object(11)\n",
      "memory usage: 26.3+ MB\n"
     ]
    }
   ],
   "source": [
    "dfraw.drop (dfraw.iloc [:, 0 : 29], axis = 1, inplace = True) # until latitude\n",
    "dfraw.info ()"
   ]
  },
  {
   "cell_type": "code",
   "execution_count": 197,
   "metadata": {
    "execution": {
     "iopub.execute_input": "2022-03-07T20:06:09.743734Z",
     "iopub.status.busy": "2022-03-07T20:06:09.743516Z",
     "iopub.status.idle": "2022-03-07T20:06:09.985117Z",
     "shell.execute_reply": "2022-03-07T20:06:09.984421Z",
     "shell.execute_reply.started": "2022-03-07T20:06:09.743695Z"
    }
   },
   "outputs": [
    {
     "name": "stdout",
     "output_type": "stream",
     "text": [
      "<class 'pandas.core.frame.DataFrame'>\n",
      "RangeIndex: 76716 entries, 0 to 76715\n",
      "Data columns (total 11 columns):\n",
      " #   Column          Non-Null Count  Dtype  \n",
      "---  ------          --------------  -----  \n",
      " 0   latitude        76716 non-null  float64\n",
      " 1   longitude       76716 non-null  float64\n",
      " 2   property_type   76716 non-null  object \n",
      " 3   room_type       76716 non-null  object \n",
      " 4   accommodates    76716 non-null  int64  \n",
      " 5   bathrooms       0 non-null      float64\n",
      " 6   bathrooms_text  76619 non-null  object \n",
      " 7   bedrooms        72744 non-null  float64\n",
      " 8   beds            75530 non-null  float64\n",
      " 9   amenities       76716 non-null  object \n",
      " 10  price           76716 non-null  object \n",
      "dtypes: float64(5), int64(1), object(5)\n",
      "memory usage: 6.4+ MB\n",
      "<class 'pandas.core.frame.DataFrame'>\n",
      "RangeIndex: 76716 entries, 0 to 76715\n",
      "Data columns (total 9 columns):\n",
      " #   Column          Non-Null Count  Dtype  \n",
      "---  ------          --------------  -----  \n",
      " 0   latitude        76716 non-null  float64\n",
      " 1   longitude       76716 non-null  float64\n",
      " 2   accommodates    76716 non-null  int64  \n",
      " 3   bathrooms       0 non-null      float64\n",
      " 4   bathrooms_text  76619 non-null  object \n",
      " 5   bedrooms        72744 non-null  float64\n",
      " 6   beds            75530 non-null  float64\n",
      " 7   amenities       76716 non-null  object \n",
      " 8   price           76716 non-null  object \n",
      "dtypes: float64(5), int64(1), object(3)\n",
      "memory usage: 5.3+ MB\n"
     ]
    }
   ],
   "source": [
    "dfraw.drop (dfraw.iloc [:, 11 :], axis = 1, inplace = True)\n",
    "dfraw.info ()\n",
    "dfraw.drop (dfraw.iloc [:, 2 : 4], axis = 1, inplace = True) # just lat long\n",
    "#dfraw.drop (dfraw.iloc [:, 0 : 3], axis = 1, inplace = True)  # just room_type\n",
    "#dfraw.drop (dfraw.iloc [:, 0 : 4], axis = 1, inplace = True)  # no room_type and no latlong\n",
    "dfraw.info ()"
   ]
  },
  {
   "cell_type": "markdown",
   "metadata": {},
   "source": [
    "Let us see how it's all going and at the same time if there's a lot of missing values:"
   ]
  },
  {
   "cell_type": "code",
   "execution_count": 198,
   "metadata": {
    "execution": {
     "iopub.execute_input": "2022-03-07T20:06:09.98651Z",
     "iopub.status.busy": "2022-03-07T20:06:09.986316Z",
     "iopub.status.idle": "2022-03-07T20:06:10.036151Z",
     "shell.execute_reply": "2022-03-07T20:06:10.035351Z",
     "shell.execute_reply.started": "2022-03-07T20:06:09.986488Z"
    }
   },
   "outputs": [
    {
     "data": {
      "text/plain": [
       "latitude              0\n",
       "longitude             0\n",
       "accommodates          0\n",
       "bathrooms         76716\n",
       "bathrooms_text       97\n",
       "bedrooms           3972\n",
       "beds               1186\n",
       "amenities             0\n",
       "price                 0\n",
       "dtype: int64"
      ]
     },
     "execution_count": 198,
     "metadata": {},
     "output_type": "execute_result"
    }
   ],
   "source": [
    "dfraw.isnull ().sum ()"
   ]
  },
  {
   "cell_type": "markdown",
   "metadata": {},
   "source": [
    "Since there are too much missing values among review columns and I can't afford to lose 17% of everything, I'm going to drop those as well."
   ]
  },
  {
   "cell_type": "markdown",
   "metadata": {},
   "source": [
    "At this moment I have to get the numbers of bathrooms out from bathrooms text and only then drop the few rows containing missing values."
   ]
  },
  {
   "cell_type": "code",
   "execution_count": 199,
   "metadata": {
    "execution": {
     "iopub.execute_input": "2022-03-07T20:06:10.080253Z",
     "iopub.status.busy": "2022-03-07T20:06:10.07984Z",
     "iopub.status.idle": "2022-03-07T20:06:10.232005Z",
     "shell.execute_reply": "2022-03-07T20:06:10.231081Z",
     "shell.execute_reply.started": "2022-03-07T20:06:10.080225Z"
    }
   },
   "outputs": [],
   "source": [
    "dfraw['bathrooms'] = dfraw['bathrooms_text'].str.extract(\"(\\d*\\.?\\d+)\", expand=False)\n",
    "dfraw['bathrooms'] = np.where(dfraw['bathrooms_text'].str.contains(\"half\", case=False, na=False), 0.5, dfraw['bathrooms'])\n",
    "dfraw = dfraw.dropna ()"
   ]
  },
  {
   "cell_type": "markdown",
   "metadata": {},
   "source": [
    "# 3. Exploratory Data Analysis  \n",
    "Now I copy to a new dataframe to analyse its columns and possibly remove some outliers.  \n",
    "We start by checking the data types:"
   ]
  },
  {
   "cell_type": "code",
   "execution_count": 200,
   "metadata": {
    "execution": {
     "iopub.execute_input": "2022-03-07T20:06:10.233676Z",
     "iopub.status.busy": "2022-03-07T20:06:10.233083Z",
     "iopub.status.idle": "2022-03-07T20:06:10.247163Z",
     "shell.execute_reply": "2022-03-07T20:06:10.24629Z",
     "shell.execute_reply.started": "2022-03-07T20:06:10.233641Z"
    }
   },
   "outputs": [
    {
     "data": {
      "text/plain": [
       "latitude        float64\n",
       "longitude       float64\n",
       "accommodates      int64\n",
       "bathrooms        object\n",
       "bedrooms        float64\n",
       "beds            float64\n",
       "amenities        object\n",
       "price            object\n",
       "dtype: object"
      ]
     },
     "execution_count": 200,
     "metadata": {},
     "output_type": "execute_result"
    }
   ],
   "source": [
    "df = dfraw.drop (\"bathrooms_text\", axis = 1)\n",
    "df.dtypes"
   ]
  },
  {
   "cell_type": "markdown",
   "metadata": {},
   "source": [
    "Ok, price and bathrooms should be numbers, and the ones that are properly numbers can still be converted from 64 bits to 32 bits to save memory, processing and, therefore, time. So, I am doing exactly that:"
   ]
  },
  {
   "cell_type": "code",
   "execution_count": 201,
   "metadata": {
    "execution": {
     "iopub.execute_input": "2022-03-07T20:06:10.248907Z",
     "iopub.status.busy": "2022-03-07T20:06:10.248575Z",
     "iopub.status.idle": "2022-03-07T20:06:10.340554Z",
     "shell.execute_reply": "2022-03-07T20:06:10.339853Z",
     "shell.execute_reply.started": "2022-03-07T20:06:10.248869Z"
    }
   },
   "outputs": [],
   "source": [
    "df [\"price\"] = df [\"price\"].str.replace (\"$\", \"\", regex = False)\n",
    "df [\"price\"] = df [\"price\"].str.replace (\",\", \"\", regex = False)\n",
    "df [\"price\"] = df [\"price\"].astype (np.float32, copy = False)\n",
    "df [\"price\"] = df [\"price\"].astype (np.int32, copy = False)\n",
    "df [\"accommodates\"] = df [\"accommodates\"].astype (np.int32, copy = False)\n",
    "df [\"bedrooms\"] = df [\"bedrooms\"].astype (np.int32, copy = False)\n",
    "df [\"beds\"] = df [\"beds\"].astype (np.int32, copy = False)\n",
    "df [\"bathrooms\"] = df [\"bathrooms\"].astype (np.float32, copy = False)\n",
    "df [\"latitude\"] = df [\"latitude\"].astype (np.float32, copy = False)\n",
    "df [\"longitude\"] = df [\"longitude\"].astype (np.float32, copy = False)"
   ]
  },
  {
   "cell_type": "markdown",
   "metadata": {},
   "source": [
    "At this time I'll create a function that statistically define outliers using interquartile range, and some graphical functions to identify which room types there are and how prices are distributed throughout the dataframe:"
   ]
  },
  {
   "cell_type": "code",
   "execution_count": 202,
   "metadata": {
    "execution": {
     "iopub.execute_input": "2022-03-07T20:06:10.341952Z",
     "iopub.status.busy": "2022-03-07T20:06:10.341715Z",
     "iopub.status.idle": "2022-03-07T20:06:24.800454Z",
     "shell.execute_reply": "2022-03-07T20:06:24.799878Z",
     "shell.execute_reply.started": "2022-03-07T20:06:10.341921Z"
    }
   },
   "outputs": [
    {
     "data": {
      "image/png": "[encoded data removed]",
      "text/plain": [
       "<Figure size 1500x500 with 2 Axes>"
      ]
     },
     "metadata": {},
     "output_type": "display_data"
    },
    {
     "data": {
      "image/png": "[encoded data removed]",
      "text/plain": [
       "<Figure size 1500x500 with 1 Axes>"
      ]
     },
     "metadata": {},
     "output_type": "display_data"
    }
   ],
   "source": [
    "def outlier (col):\n",
    "    q1 = col.quantile (0.25)\n",
    "    q3 = col.quantile (0.75)\n",
    "    iqr = q3 - q1\n",
    "    lenght = 1.5\n",
    "    return q1 - lenght * iqr, q3 + lenght * iqr\n",
    "\n",
    "def box (col):\n",
    "    fig, (ax1, ax2) = plt.subplots (1, 2)\n",
    "    fig.set_size_inches (15, 5)\n",
    "    sns.boxplot (x = col, ax = ax1)\n",
    "    ax2.set_xlim (outlier (col))\n",
    "    sns.boxplot (x = col, ax = ax2)\n",
    "\n",
    "def hist (col):\n",
    "    plt.figure (figsize = (15,5))\n",
    "    sns.histplot (col, kde = True)\n",
    "\n",
    "def bar (col):\n",
    "    plt.figure (figsize = (15,5))\n",
    "    ax = sns.barplot (x = col.value_counts ().index, y = col.value_counts ())\n",
    "    if col.dtypes != \"object\":\n",
    "        ax.set_xlim (outlier (col))\n",
    "        \n",
    "box (df [\"price\"])\n",
    "hist (df [\"price\"])"
   ]
  },
  {
   "cell_type": "markdown",
   "metadata": {},
   "source": [
    "As we can see, there is a lot of price anomalies we'd rather remove; and almost 75% of the room types consist of entire homes or apt, so we can get together private, shared and hotel rooms into just one category."
   ]
  },
  {
   "cell_type": "code",
   "execution_count": 203,
   "metadata": {
    "execution": {
     "iopub.execute_input": "2022-03-07T20:06:24.801895Z",
     "iopub.status.busy": "2022-03-07T20:06:24.801393Z",
     "iopub.status.idle": "2022-03-07T20:06:25.478668Z",
     "shell.execute_reply": "2022-03-07T20:06:25.478078Z",
     "shell.execute_reply.started": "2022-03-07T20:06:24.80186Z"
    }
   },
   "outputs": [
    {
     "name": "stdout",
     "output_type": "stream",
     "text": [
      "6106 rows removed\n",
      "65503 total rows and 8 total columns\n"
     ]
    },
    {
     "data": {
      "image/png": "[encoded data removed]",
      "text/plain": [
       "<Figure size 1500x500 with 1 Axes>"
      ]
     },
     "metadata": {},
     "output_type": "display_data"
    }
   ],
   "source": [
    "def remove (ds, col):\n",
    "    before = ds.shape [0]\n",
    "    low, up = outlier (ds [col])\n",
    "    ds = ds.loc [(ds [col] >= low) & (ds [col] <= up), :]\n",
    "    return ds, before - ds.shape [0]\n",
    "df, removed = remove (df, \"price\")\n",
    "\n",
    "\"\"\"\n",
    "aux = df [\"room_type\"].value_counts ()\n",
    "for kind in aux.index:\n",
    "    if aux [kind] < 15000:\n",
    "        df.loc [df [\"room_type\"] == kind, \"room_type\"] = \"Rooms\"\n",
    "\"\"\"\n",
    "        \n",
    "print (f\"{removed} rows removed\")\n",
    "hist (df [\"price\"])\n",
    "print (f\"{df.shape [0]} total rows and {df.shape [1]} total columns\")"
   ]
  },
  {
   "cell_type": "markdown",
   "metadata": {},
   "source": [
    "Almost 10% of the data were removed and I personally think that's enough discrepancies out of the equation.  \n",
    "I decided that all those amenities will be counted instead of compared with each other individually.  \n",
    "So why not take a look at how the dataframe appears currently and where those rentals are spread around Lisbon?"
   ]
  },
  {
   "cell_type": "code",
   "execution_count": 204,
   "metadata": {
    "execution": {
     "iopub.execute_input": "2022-03-07T20:06:25.479998Z",
     "iopub.status.busy": "2022-03-07T20:06:25.479691Z",
     "iopub.status.idle": "2022-03-07T20:06:26.848677Z",
     "shell.execute_reply": "2022-03-07T20:06:26.846787Z",
     "shell.execute_reply.started": "2022-03-07T20:06:25.479972Z"
    }
   },
   "outputs": [
    {
     "data": {
      "text/html": [
       "<div>\n",
       "<style scoped>\n",
       "    .dataframe tbody tr th:only-of-type {\n",
       "        vertical-align: middle;\n",
       "    }\n",
       "\n",
       "    .dataframe tbody tr th {\n",
       "        vertical-align: top;\n",
       "    }\n",
       "\n",
       "    .dataframe thead th {\n",
       "        text-align: right;\n",
       "    }\n",
       "</style>\n",
       "<table border=\"1\" class=\"dataframe\">\n",
       "  <thead>\n",
       "    <tr style=\"text-align: right;\">\n",
       "      <th></th>\n",
       "      <th>latitude</th>\n",
       "      <th>longitude</th>\n",
       "      <th>accommodates</th>\n",
       "      <th>bathrooms</th>\n",
       "      <th>bedrooms</th>\n",
       "      <th>beds</th>\n",
       "      <th>price</th>\n",
       "      <th>qty</th>\n",
       "    </tr>\n",
       "  </thead>\n",
       "  <tbody>\n",
       "    <tr>\n",
       "      <th>0</th>\n",
       "      <td>38.697498</td>\n",
       "      <td>-9.197680</td>\n",
       "      <td>4</td>\n",
       "      <td>1.0</td>\n",
       "      <td>1</td>\n",
       "      <td>1</td>\n",
       "      <td>40</td>\n",
       "      <td>36</td>\n",
       "    </tr>\n",
       "    <tr>\n",
       "      <th>1</th>\n",
       "      <td>38.712410</td>\n",
       "      <td>-9.127060</td>\n",
       "      <td>3</td>\n",
       "      <td>1.0</td>\n",
       "      <td>1</td>\n",
       "      <td>1</td>\n",
       "      <td>50</td>\n",
       "      <td>27</td>\n",
       "    </tr>\n",
       "    <tr>\n",
       "      <th>2</th>\n",
       "      <td>38.710819</td>\n",
       "      <td>-9.127190</td>\n",
       "      <td>4</td>\n",
       "      <td>1.0</td>\n",
       "      <td>1</td>\n",
       "      <td>2</td>\n",
       "      <td>60</td>\n",
       "      <td>18</td>\n",
       "    </tr>\n",
       "    <tr>\n",
       "      <th>3</th>\n",
       "      <td>38.711559</td>\n",
       "      <td>-9.129870</td>\n",
       "      <td>4</td>\n",
       "      <td>1.0</td>\n",
       "      <td>1</td>\n",
       "      <td>1</td>\n",
       "      <td>60</td>\n",
       "      <td>26</td>\n",
       "    </tr>\n",
       "    <tr>\n",
       "      <th>6</th>\n",
       "      <td>38.764271</td>\n",
       "      <td>-9.153010</td>\n",
       "      <td>6</td>\n",
       "      <td>2.0</td>\n",
       "      <td>1</td>\n",
       "      <td>3</td>\n",
       "      <td>40</td>\n",
       "      <td>10</td>\n",
       "    </tr>\n",
       "    <tr>\n",
       "      <th>...</th>\n",
       "      <td>...</td>\n",
       "      <td>...</td>\n",
       "      <td>...</td>\n",
       "      <td>...</td>\n",
       "      <td>...</td>\n",
       "      <td>...</td>\n",
       "      <td>...</td>\n",
       "      <td>...</td>\n",
       "    </tr>\n",
       "    <tr>\n",
       "      <th>76708</th>\n",
       "      <td>38.709438</td>\n",
       "      <td>-9.151200</td>\n",
       "      <td>2</td>\n",
       "      <td>1.0</td>\n",
       "      <td>1</td>\n",
       "      <td>1</td>\n",
       "      <td>68</td>\n",
       "      <td>27</td>\n",
       "    </tr>\n",
       "    <tr>\n",
       "      <th>76710</th>\n",
       "      <td>38.704609</td>\n",
       "      <td>-9.202180</td>\n",
       "      <td>4</td>\n",
       "      <td>1.0</td>\n",
       "      <td>2</td>\n",
       "      <td>3</td>\n",
       "      <td>58</td>\n",
       "      <td>49</td>\n",
       "    </tr>\n",
       "    <tr>\n",
       "      <th>76712</th>\n",
       "      <td>38.733501</td>\n",
       "      <td>-9.142750</td>\n",
       "      <td>2</td>\n",
       "      <td>1.0</td>\n",
       "      <td>1</td>\n",
       "      <td>1</td>\n",
       "      <td>31</td>\n",
       "      <td>3</td>\n",
       "    </tr>\n",
       "    <tr>\n",
       "      <th>76714</th>\n",
       "      <td>38.711952</td>\n",
       "      <td>-9.135315</td>\n",
       "      <td>3</td>\n",
       "      <td>1.0</td>\n",
       "      <td>1</td>\n",
       "      <td>0</td>\n",
       "      <td>80</td>\n",
       "      <td>17</td>\n",
       "    </tr>\n",
       "    <tr>\n",
       "      <th>76715</th>\n",
       "      <td>38.709595</td>\n",
       "      <td>-9.146027</td>\n",
       "      <td>4</td>\n",
       "      <td>1.0</td>\n",
       "      <td>2</td>\n",
       "      <td>4</td>\n",
       "      <td>70</td>\n",
       "      <td>36</td>\n",
       "    </tr>\n",
       "  </tbody>\n",
       "</table>\n",
       "<p>65503 rows × 8 columns</p>\n",
       "</div>"
      ],
      "text/plain": [
       "        latitude  longitude  accommodates  bathrooms  bedrooms  beds  price  \\\n",
       "0      38.697498  -9.197680             4        1.0         1     1     40   \n",
       "1      38.712410  -9.127060             3        1.0         1     1     50   \n",
       "2      38.710819  -9.127190             4        1.0         1     2     60   \n",
       "3      38.711559  -9.129870             4        1.0         1     1     60   \n",
       "6      38.764271  -9.153010             6        2.0         1     3     40   \n",
       "...          ...        ...           ...        ...       ...   ...    ...   \n",
       "76708  38.709438  -9.151200             2        1.0         1     1     68   \n",
       "76710  38.704609  -9.202180             4        1.0         2     3     58   \n",
       "76712  38.733501  -9.142750             2        1.0         1     1     31   \n",
       "76714  38.711952  -9.135315             3        1.0         1     0     80   \n",
       "76715  38.709595  -9.146027             4        1.0         2     4     70   \n",
       "\n",
       "       qty  \n",
       "0       36  \n",
       "1       27  \n",
       "2       18  \n",
       "3       26  \n",
       "6       10  \n",
       "...    ...  \n",
       "76708   27  \n",
       "76710   49  \n",
       "76712    3  \n",
       "76714   17  \n",
       "76715   36  \n",
       "\n",
       "[65503 rows x 8 columns]"
      ]
     },
     "metadata": {},
     "output_type": "display_data"
    }
   ],
   "source": [
    "df [\"qty\"] = df [\"amenities\"].str.split (\",\").apply (len)\n",
    "df [\"qty\"] = df [\"qty\"].astype (np.int32, copy = False)\n",
    "dfenc = df.drop (\"amenities\", axis = 1)\n",
    "display (dfenc)\n",
    "#px.density_mapbox (df, lat = \"latitude\", lon = \"longitude\", z = \"price\", radius = 2.5, center = {\"lat\": df.latitude.mean (), \"lon\": df.longitude.mean ()}, zoom = 10, mapbox_style = \"stamen-terrain\").show ()"
   ]
  },
  {
   "cell_type": "markdown",
   "metadata": {},
   "source": [
    "# 4. Encoding and Modeling  \n",
    "In a new copy of the dataframe, columns with just two kinds of values will be encoded into true or false categories, since this is better when running machine learning algorithms. Later we verify the correlation among all columns and if their types are ready for modeling:"
   ]
  },
  {
   "cell_type": "markdown",
   "metadata": {},
   "source": [
    "I am making a function that will return three evaluation methods: Root mean squared error; Mean absolute error; and R² score.  \n",
    "The mean errors show by how much the model is erroring, in average. And the R² score says how much percent the model is getting it right.  \n",
    "After that I'll start the regression models, split the data into 80% for training and 20% for testing, and run the models to find out the best ones."
   ]
  },
  {
   "cell_type": "code",
   "execution_count": 205,
   "metadata": {
    "execution": {
     "iopub.execute_input": "2022-03-07T20:06:27.874083Z",
     "iopub.status.busy": "2022-03-07T20:06:27.873878Z",
     "iopub.status.idle": "2022-03-07T20:07:09.76459Z",
     "shell.execute_reply": "2022-03-07T20:07:09.762916Z",
     "shell.execute_reply.started": "2022-03-07T20:06:27.874058Z"
    }
   },
   "outputs": [
    {
     "name": "stdout",
     "output_type": "stream",
     "text": [
      "\n",
      "-----\n",
      "Model: Random Forest\n",
      "RMSE: 20.62\n",
      "MAE: 14.03\n",
      "R2: 69.87%\n",
      "-----\n",
      "\n",
      "\n",
      "-----\n",
      "Model: Decision Tree\n",
      "RMSE: 25.15\n",
      "MAE: 14.97\n",
      "R2: 55.15%\n",
      "-----\n",
      "\n",
      "\n",
      "-----\n",
      "Model: Extra Trees\n",
      "RMSE: 20.98\n",
      "MAE: 13.03\n",
      "R2: 68.80%\n",
      "-----\n",
      "\n"
     ]
    }
   ],
   "source": [
    "def evaluate (model, ytest, prediction):\n",
    "    rmse = np.sqrt (mean_squared_error (ytest, prediction))\n",
    "    mae = mean_absolute_error (ytest, prediction)\n",
    "    r2 = r2_score (ytest, prediction)\n",
    "    return f\"\\n-----\\nModel: {model}\\nRMSE: {rmse:.2f}\\nMAE: {mae:.2f}\\nR2: {r2:.2%}\\n-----\\n\"\n",
    "\n",
    "models = {'Random Forest': RandomForestRegressor (),\n",
    "          'Decision Tree': DecisionTreeRegressor (),\n",
    "          'Extra Trees': ExtraTreesRegressor ()\n",
    "          }\n",
    "\n",
    "y = dfenc [\"price\"]\n",
    "x = dfenc.drop (\"price\", axis = 1)\n",
    "xtrain, xtest, ytrain, ytest = train_test_split (x, y)\n",
    "\n",
    "for name, model in models.items ():\n",
    "    model.fit (xtrain, ytrain)\n",
    "    prediction = model.predict (xtest)\n",
    "    print (evaluate (name, ytest, prediction))"
   ]
  },
  {
   "cell_type": "markdown",
   "metadata": {},
   "source": [
    "# 6. Conclusion  \n",
    "Both models have improved, with Extra Trees being slightly better by providing circa 75% success rate and less than only 20 of average errors.  \n",
    "I hope this proofs helpful for anyone trying to price Airbnb rentals right in Lisbon, Portugal."
   ]
  }
 ],
 "metadata": {
  "kaggle": {
   "accelerator": "none",
   "dataSources": [
    {
     "datasetId": 1979009,
     "sourceId": 3266946,
     "sourceType": "datasetVersion"
    }
   ],
   "dockerImageVersionId": 30170,
   "isGpuEnabled": false,
   "isInternetEnabled": false,
   "language": "python",
   "sourceType": "notebook"
  },
  "kernelspec": {
   "display_name": "Python 3 (ipykernel)",
   "language": "python",
   "name": "python3"
  },
  "language_info": {
   "codemirror_mode": {
    "name": "ipython",
    "version": 3
   },
   "file_extension": ".py",
   "mimetype": "text/x-python",
   "name": "python",
   "nbconvert_exporter": "python",
   "pygments_lexer": "ipython3",
   "version": "3.11.5"
  }
 },
 "nbformat": 4,
 "nbformat_minor": 4
}
